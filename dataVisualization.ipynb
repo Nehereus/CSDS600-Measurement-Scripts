{
 "cells": [
  {
   "cell_type": "code",
   "execution_count": 707,
   "metadata": {
    "collapsed": true,
    "ExecuteTime": {
     "start_time": "2023-04-08T00:34:22.621879Z",
     "end_time": "2023-04-08T00:34:22.632290Z"
    }
   },
   "outputs": [],
   "source": [
    "import matplotlib.pyplot as plt\n",
    "import os\n",
    "import json\n",
    "import dateutil\n",
    "import logging\n",
    "import statistics\n",
    "import numpy as np\n",
    "from datetime import *"
   ]
  },
  {
   "cell_type": "code",
   "execution_count": 708,
   "outputs": [],
   "source": [
    "def get_cca_folders(path,cca_type, start_date_inclusive, end_date_exclusive,start_hour,end_hour):\n",
    "    all_folders = os.listdir(path)\n",
    "    valid_folders=[]\n",
    "    for folder_name in all_folders:\n",
    "        try:\n",
    "            date_obj=parse_folder_name(folder_name)\n",
    "            if start_date_inclusive<=date_obj.date()<end_date_exclusive \\\n",
    "                    and start_hour<=date_obj.time()<=end_hour\\\n",
    "                    and cca_type in folder_name:\n",
    "                valid_folders.append(folder_name)\n",
    "        except:\n",
    "            pass\n",
    "\n",
    "    return valid_folders"
   ],
   "metadata": {
    "collapsed": false,
    "ExecuteTime": {
     "start_time": "2023-04-08T00:34:22.626142Z",
     "end_time": "2023-04-08T00:34:22.632414Z"
    }
   }
  },
  {
   "cell_type": "code",
   "execution_count": 709,
   "outputs": [],
   "source": [
    "def parse_folder_name(name):\n",
    "    try:\n",
    "        date_list = name.split('-')\n",
    "        temp_date=\"2023-\"+date_list[0]+\"-\"+date_list[1]+\" \"+date_list[2]\n",
    "        return dateutil.parser.parse(temp_date)\n",
    "    except:\n",
    "        logging.warning(name+\" cannot be parsed\")"
   ],
   "metadata": {
    "collapsed": false,
    "ExecuteTime": {
     "start_time": "2023-04-08T00:34:22.629562Z",
     "end_time": "2023-04-08T00:34:22.633221Z"
    }
   }
  },
  {
   "cell_type": "code",
   "execution_count": 710,
   "outputs": [],
   "source": [
    "def sort_iperf_by_timestamp(iperf_jsons):\n",
    "    outer_list_sorted = iperf_jsons\n",
    "    outer_list_sorted=sorted(outer_list_sorted,key=lambda e: e[0][\"start\"][\"timestamp\"][\"timesecs\"])\n",
    "    sorted_list =[]\n",
    "    for outer in outer_list_sorted:\n",
    "        sorted_list.append(sorted(outer,key=lambda e:e[\"start\"][\"timestamp\"][\"timesecs\"]))\n",
    "    return sorted_list\n"
   ],
   "metadata": {
    "collapsed": false,
    "ExecuteTime": {
     "start_time": "2023-04-08T00:34:22.633242Z",
     "end_time": "2023-04-08T00:34:22.649704Z"
    }
   }
  },
  {
   "cell_type": "code",
   "execution_count": 711,
   "outputs": [],
   "source": [
    "def get_jsons(path,cca_type,file_type,length,start_date_inclusive=date(2000,1,1), end_date_exclusive=date\n",
    "    (3000,1,1),start_hour=time(0,0,0),end_hour=time(23,59,59)):\n",
    "    folders=get_cca_folders(path,cca_type,start_date_inclusive,end_date_exclusive,start_hour,end_hour)\n",
    "    result=[]\n",
    "    for folder_name in folders:\n",
    "        file_path = os.path.join(path,folder_name,length,file_type)\n",
    "        temp_res = []\n",
    "        for file in os.listdir(file_path):\n",
    "            try:\n",
    "                with open(os.path.join(file_path,file), 'r') as reading_file:\n",
    "                    temp_res.append(json.load(reading_file))\n",
    "            except:\n",
    "                logging.warning(os.path.join(file_path,file)+\" cannot be read as a valid json file or not existed, ignoring\")\n",
    "        if len(temp_res)>0:\n",
    "            result.append(temp_res)\n",
    "    if file_type==\"iperf\":\n",
    "            result = sort_iperf_by_timestamp(result)\n",
    "    return result"
   ],
   "metadata": {
    "collapsed": false,
    "ExecuteTime": {
     "start_time": "2023-04-08T00:34:22.639085Z",
     "end_time": "2023-04-08T00:34:22.668231Z"
    }
   }
  },
  {
   "cell_type": "code",
   "execution_count": 712,
   "outputs": [],
   "source": [
    "def average_sum_received(jsons):\n",
    "    # in MegaBytes per second\n",
    "    total=0\n",
    "    length=0\n",
    "    for file in jsons:\n",
    "        try:\n",
    "            total+=file[\"end\"][\"sum_received\"][\"bits_per_second\"]/1024/1024\n",
    "            length+=1\n",
    "        except:\n",
    "            logging.warning(json+\" parsing fail when getting its sum received in remote\")\n",
    "    return total/length"
   ],
   "metadata": {
    "collapsed": false,
    "ExecuteTime": {
     "start_time": "2023-04-08T00:34:22.642014Z",
     "end_time": "2023-04-08T00:34:22.668342Z"
    }
   }
  },
  {
   "cell_type": "code",
   "execution_count": 713,
   "outputs": [],
   "source": [
    "def average_rtt(jsons):\n",
    "    # in MegaBytes per second\n",
    "    total=0\n",
    "    length=0\n",
    "    for file in jsons:\n",
    "        try:\n",
    "\n",
    "            total+=file[\"end\"][\"streams\"][0][\"sender\"][\"mean_rtt\"]\n",
    "            length+=1\n",
    "        except:\n",
    "            logging.warning(\" parsing fail when getting its sum received in remote\")\n",
    "    return total/length"
   ],
   "metadata": {
    "collapsed": false,
    "ExecuteTime": {
     "start_time": "2023-04-08T00:34:22.644748Z",
     "end_time": "2023-04-08T00:34:22.668371Z"
    }
   }
  },
  {
   "cell_type": "code",
   "execution_count": 714,
   "outputs": [],
   "source": [
    "def average_retransmission(jsons):\n",
    "    # in MegaBytes per second\n",
    "    total=0\n",
    "    length=0\n",
    "    for file in jsons:\n",
    "        try:\n",
    "            total+=file[\"end\"][\"sum_sent\"][\"retransmits\"]\n",
    "            length+=1\n",
    "        except:\n",
    "            logging.warning(\" parsing fail when getting its sum received in remote\")\n",
    "    return total/length"
   ],
   "metadata": {
    "collapsed": false,
    "ExecuteTime": {
     "start_time": "2023-04-08T00:34:22.647842Z",
     "end_time": "2023-04-08T00:34:22.668393Z"
    }
   }
  },
  {
   "cell_type": "code",
   "execution_count": 715,
   "outputs": [],
   "source": [
    "def draw_average_bits_per_second_received_against_time(jsons):\n",
    "    ys = list(map(lambda e:average_sum_received(e),jsons))\n",
    "    xs = list(map(lambda e:dateutil.parser.parse(e[0][\"start\"][\"timestamp\"][\"time\"]).astimezone(dateutil.tz.gettz('America/New_York')),jsons))\n",
    "    print(statistics.stdev(ys))\n",
    "    print(statistics.mean(ys))\n",
    "    print(\"50th percentile of ys: \",np.percentile(ys, 1))\n",
    "    plt.plot(xs,ys)\n",
    "    plt.xticks(rotation=90)\n",
    "    plt.show()"
   ],
   "metadata": {
    "collapsed": false,
    "ExecuteTime": {
     "start_time": "2023-04-08T00:34:22.650270Z",
     "end_time": "2023-04-08T00:34:22.668587Z"
    }
   }
  },
  {
   "cell_type": "code",
   "execution_count": 716,
   "outputs": [],
   "source": [
    "def draw_average_bits_per_second_cdf(jsons):\n",
    "    ys = list(map(lambda e:average_sum_received(e),jsons))\n",
    "    count, bins_count = np.histogram(ys, bins=1000)\n",
    "    pdf = count / sum(count)\n",
    "    cdf = np.cumsum(pdf)\n",
    "    plt.plot(bins_count[1:], cdf, label=\"CDF\")\n",
    "    plt.legend()\n",
    "    plt.show()"
   ],
   "metadata": {
    "collapsed": false,
    "ExecuteTime": {
     "start_time": "2023-04-08T00:34:22.653289Z",
     "end_time": "2023-04-08T00:34:22.668738Z"
    }
   }
  },
  {
   "cell_type": "code",
   "execution_count": 717,
   "outputs": [],
   "source": [
    "def draw_rtt_against_time(jsons):\n",
    "    ys = list(map(lambda e:average_rtt(e),jsons))\n",
    "    xs = list(map(lambda e:dateutil.parser.parse(e[0][\"start\"][\"timestamp\"][\"time\"]).astimezone(dateutil.tz.gettz('America/New_York')),jsons))\n",
    "    plt.plot(xs,ys)\n",
    "    plt.xticks(rotation=90)\n",
    "    plt.show()"
   ],
   "metadata": {
    "collapsed": false,
    "ExecuteTime": {
     "start_time": "2023-04-08T00:34:22.656735Z",
     "end_time": "2023-04-08T00:34:22.668764Z"
    }
   }
  },
  {
   "cell_type": "code",
   "execution_count": 718,
   "outputs": [],
   "source": [
    "def draw_average_rtt_cdf(jsons):\n",
    "    ys = list(map(lambda e:average_rtt(e),jsons))\n",
    "    count, bins_count = np.histogram(ys, bins=1000)\n",
    "    pdf = count / sum(count)\n",
    "    cdf = np.cumsum(pdf)\n",
    "    plt.plot(bins_count[1:], cdf, label=\"CDF\")\n",
    "    plt.legend()\n",
    "    plt.show()"
   ],
   "metadata": {
    "collapsed": false,
    "ExecuteTime": {
     "start_time": "2023-04-08T00:34:22.658358Z",
     "end_time": "2023-04-08T00:34:22.668786Z"
    }
   }
  },
  {
   "cell_type": "code",
   "execution_count": 719,
   "outputs": [],
   "source": [
    "def draw_retransmission_against_time(jsons):\n",
    "    ys = list(map(lambda e:average_retransmission(e),jsons))\n",
    "    xs = list(map(lambda e:dateutil.parser.parse(e[0][\"start\"][\"timestamp\"][\"time\"]).astimezone(dateutil.tz.gettz('America/New_York')),jsons))\n",
    "    plt.plot(xs,ys)\n",
    "    plt.xticks(rotation=90)\n",
    "    plt.show()"
   ],
   "metadata": {
    "collapsed": false,
    "ExecuteTime": {
     "start_time": "2023-04-08T00:34:22.659924Z",
     "end_time": "2023-04-08T00:34:22.668820Z"
    }
   }
  },
  {
   "cell_type": "code",
   "execution_count": 720,
   "outputs": [],
   "source": [
    "def draw_average_bits_per_second_by_hour(path,cca_type,length):\n",
    "    average_bits_per_second =[]\n",
    "    start_list=[]\n",
    "    end_list =[]\n",
    "    for i in range(0,24):\n",
    "        for j in [0,30]:\n",
    "            start_list.append(time(i,j,0))\n",
    "        for j in [29,59]:\n",
    "            end_list.append(time(i,j,0))\n",
    "\n",
    "    ys =[]\n",
    "    xs =[]\n",
    "    for (start,end) in zip(start_list,end_list):\n",
    "        xs.append(start.strftime('%H/%M'))\n",
    "        files = get_jsons(path,cca_type,\"iperf\",length,start_hour=start,end_hour=end)\n",
    "        bps_sum=0\n",
    "        bps_count=0\n",
    "        for file in files:\n",
    "            bps_sum+=file[0][\"end\"][\"sum_sent\"][\"bits_per_second\"]\n",
    "            bps_count+=1\n",
    "        ys.append(bps_sum/bps_count/1024/1024)\n",
    "    print(xs)\n",
    "    plt.plot(xs,ys)\n",
    "    plt.xticks(rotation=90)\n",
    "    plt.show()\n",
    "\n"
   ],
   "metadata": {
    "collapsed": false,
    "ExecuteTime": {
     "start_time": "2023-04-08T00:34:22.666229Z",
     "end_time": "2023-04-08T00:34:22.668841Z"
    }
   }
  },
  {
   "cell_type": "code",
   "execution_count": 721,
   "outputs": [
    {
     "name": "stdout",
     "output_type": "stream",
     "text": [
      "['00/00', '00/30', '01/00', '01/30', '02/00', '02/30', '03/00', '03/30', '04/00', '04/30', '05/00', '05/30', '06/00', '06/30', '07/00', '07/30', '08/00', '08/30', '09/00', '09/30', '10/00', '10/30', '11/00', '11/30', '12/00', '12/30', '13/00', '13/30', '14/00', '14/30', '15/00', '15/30', '16/00', '16/30', '17/00', '17/30', '18/00', '18/30', '19/00', '19/30', '20/00', '20/30', '21/00', '21/30', '22/00', '22/30', '23/00', '23/30']\n"
     ]
    },
    {
     "data": {
      "text/plain": "<Figure size 640x480 with 1 Axes>",
      "image/png": "[encoded data removed]"
     },
     "metadata": {},
     "output_type": "display_data"
    }
   ],
   "source": [
    "#logging.getLogger(__name__).setLevel(logging.ERROR)\n",
    "a=get_jsons(\"/Users/nickdu/Downloads/output\",\"bbr\",\"iperf\",\"180\",start_date_inclusive=date(2023,4,4),start_hour=time(12,0,0),end_hour=time(12,30,0))\n",
    "draw_average_bits_per_second_by_hour(\"/Users/nickdu/Downloads/output\",\"bbr\",\"180\")\n",
    "#draw_average_bits_per_second_received_against_time(get_jsons(\"/Users/nickdu/Downloads/output\",\"cubic\",\"iperf\",\"180\",start_date_inclusive=date(2023,4,4),start_hour=time(13,0,0),end_hour=time(14,59,59)))\n",
    "\n"
   ],
   "metadata": {
    "collapsed": false,
    "ExecuteTime": {
     "start_time": "2023-04-08T00:34:22.668797Z",
     "end_time": "2023-04-08T00:34:23.340804Z"
    }
   }
  },
  {
   "cell_type": "code",
   "execution_count": 721,
   "outputs": [],
   "source": [],
   "metadata": {
    "collapsed": false,
    "ExecuteTime": {
     "start_time": "2023-04-08T00:34:23.340581Z",
     "end_time": "2023-04-08T00:34:23.341652Z"
    }
   }
  }
 ],
 "metadata": {
  "kernelspec": {
   "display_name": "Python 3",
   "language": "python",
   "name": "python3"
  },
  "language_info": {
   "codemirror_mode": {
    "name": "ipython",
    "version": 2
   },
   "file_extension": ".py",
   "mimetype": "text/x-python",
   "name": "python",
   "nbconvert_exporter": "python",
   "pygments_lexer": "ipython2",
   "version": "2.7.6"
  }
 },
 "nbformat": 4,
 "nbformat_minor": 0
}
